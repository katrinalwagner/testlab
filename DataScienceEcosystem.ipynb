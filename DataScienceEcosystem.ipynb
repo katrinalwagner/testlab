{
 "cells": [
  {
   "cell_type": "markdown",
   "id": "840fe7a9-de90-47df-8ca5-b2cb70f1df5f",
   "metadata": {},
   "source": [
    "# Data Science Tools and Ecosystem"
   ]
  },
  {
   "cell_type": "markdown",
   "id": "67c37ed4-fda1-404b-b99c-3d709278edbd",
   "metadata": {},
   "source": [
    "In this notebook, Data Science tools and Ecosystems are summarized"
   ]
  },
  {
   "cell_type": "markdown",
   "id": "63dcd009-8dc5-4889-8d65-27109c328b38",
   "metadata": {},
   "source": [
    "**Objectives**\n",
    "\n",
    "* List popular languages for Data Science\n",
    "* List common libraries used for Data Science\n",
    "* List Data Science tools"
   ]
  },
  {
   "cell_type": "markdown",
   "id": "fe5f4076-06bb-490a-8bf2-49b3c3863551",
   "metadata": {},
   "source": [
    "Some of the popular languages that Data Scientists use are:\n",
    "\n",
    "    1. Python\n",
    "    2. R\n",
    "    3. SQL"
   ]
  },
  {
   "cell_type": "markdown",
   "id": "53691b1a-7664-4a50-9765-16c45fe45a98",
   "metadata": {},
   "source": [
    "Some of the commonly used libraries used by Data Scientists include:\n",
    "\n",
    "1. Pandas\n",
    "2. Numpy\n",
    "3. Matplotlib"
   ]
  },
  {
   "cell_type": "markdown",
   "id": "6c866a79-aead-495f-858d-5322ddffabc3",
   "metadata": {},
   "source": [
    "|Data Science Tools|\n",
    "| ------|\n",
    "| RStudio |\n",
    "| Apache Spark |\n",
    "| Hadoop |"
   ]
  },
  {
   "cell_type": "markdown",
   "id": "f27af357-2a6d-48f5-8d61-c2fb0cc94a7d",
   "metadata": {},
   "source": [
    "### Below are a few examples of evaluating arithmetic expresssions in Python"
   ]
  },
  {
   "cell_type": "code",
   "execution_count": 6,
   "id": "ceae61f3-8d73-4b73-9571-a11c50ae9122",
   "metadata": {},
   "outputs": [
    {
     "data": {
      "text/plain": [
       "17"
      ]
     },
     "execution_count": 6,
     "metadata": {},
     "output_type": "execute_result"
    }
   ],
   "source": [
    "(3*4)+5"
   ]
  },
  {
   "cell_type": "code",
   "execution_count": 7,
   "id": "68be32a6-e52d-4cb6-ace4-5e4b99a529c9",
   "metadata": {},
   "outputs": [
    {
     "data": {
      "text/plain": [
       "3.3333333333333335"
      ]
     },
     "execution_count": 7,
     "metadata": {},
     "output_type": "execute_result"
    }
   ],
   "source": [
    "#This will convert 200 minutes to hours by dividing by 60\n",
    "\n",
    "200/60"
   ]
  },
  {
   "cell_type": "markdown",
   "id": "4ece1a36-3870-484a-8616-fa340695a018",
   "metadata": {},
   "source": [
    "## Author\n",
    "\n",
    "Katrina Wagner"
   ]
  }
 ],
 "metadata": {
  "kernelspec": {
   "display_name": "Python",
   "language": "python",
   "name": "conda-env-python-py"
  },
  "language_info": {
   "codemirror_mode": {
    "name": "ipython",
    "version": 3
   },
   "file_extension": ".py",
   "mimetype": "text/x-python",
   "name": "python",
   "nbconvert_exporter": "python",
   "pygments_lexer": "ipython3",
   "version": "3.7.12"
  }
 },
 "nbformat": 4,
 "nbformat_minor": 5
}
